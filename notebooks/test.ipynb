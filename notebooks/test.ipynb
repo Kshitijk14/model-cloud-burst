{
 "cells": [
  {
   "cell_type": "code",
   "execution_count": 6,
   "metadata": {},
   "outputs": [
    {
     "name": "stdout",
     "output_type": "stream",
     "text": [
      "Scaler: StandardScaler()\n",
      "Scaler parameters: [ 8.86156521e-15  6.93093081e+01  1.53446000e-01  2.65760065e-05\n",
      " -7.12101948e-06  4.18590040e-03 -6.37549467e-03]\n",
      "Scaler scale: [ 1.         21.47152435  0.77313021  0.70710892  0.70710464  0.70799147\n",
      "  0.7061798 ]\n"
     ]
    }
   ],
   "source": [
    "import joblib\n",
    "\n",
    "scaler_path = \"../artifacts/scalers/hardware_model/scaler.save\"\n",
    "\n",
    "scaler = joblib.load(scaler_path)\n",
    "print(f'Scaler: {scaler}')\n",
    "print(f'Scaler parameters: {scaler.mean_}')\n",
    "print(f'Scaler scale: {scaler.scale_}')"
   ]
  },
  {
   "cell_type": "markdown",
   "metadata": {},
   "source": [
    "A properly fitted StandardScaler should display attributes like mean_ and scale_. If these attributes are missing, the scaler was not fitted."
   ]
  }
 ],
 "metadata": {
  "kernelspec": {
   "display_name": "cloud",
   "language": "python",
   "name": "python3"
  },
  "language_info": {
   "codemirror_mode": {
    "name": "ipython",
    "version": 3
   },
   "file_extension": ".py",
   "mimetype": "text/x-python",
   "name": "python",
   "nbconvert_exporter": "python",
   "pygments_lexer": "ipython3",
   "version": "3.11.4"
  }
 },
 "nbformat": 4,
 "nbformat_minor": 2
}
